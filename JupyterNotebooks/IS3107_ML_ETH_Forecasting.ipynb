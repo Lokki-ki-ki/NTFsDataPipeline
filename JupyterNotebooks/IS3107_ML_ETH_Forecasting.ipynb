{
  "nbformat": 4,
  "nbformat_minor": 0,
  "metadata": {
    "colab": {
      "provenance": []
    },
    "kernelspec": {
      "name": "python3",
      "display_name": "Python 3"
    },
    "language_info": {
      "name": "python"
    },
    "gpuClass": "standard"
  },
  "cells": [
    {
      "cell_type": "code",
      "execution_count": 1,
      "metadata": {
        "id": "0TpJ3kGWzjbW"
      },
      "outputs": [],
      "source": [
        "from google.cloud import bigquery\n",
        "from google.colab import auth\n",
        "from copy import deepcopy\n",
        "import numpy as np\n",
        "import pandas as pd\n",
        "import matplotlib.pyplot as plt\n",
        "# Packages for ML\n",
        "from sklearn.model_selection import train_test_split\n",
        "import tensorflow as tf\n",
        "from tensorflow.keras.layers import Conv1D, LSTM, Dense, Dropout, Bidirectional, TimeDistributed\n",
        "from tensorflow.keras.layers import MaxPooling1D, Flatten\n",
        "from tensorflow.keras.regularizers import L1, L2\n",
        "from tensorflow.keras.metrics import Accuracy\n",
        "from tensorflow.keras.metrics import RootMeanSquaredError\n",
        "from tensorflow.keras.utils import plot_model"
      ]
    },
    {
      "cell_type": "code",
      "source": [
        "auth.authenticate_user()"
      ],
      "metadata": {
        "id": "WCg1Lji4S8lg"
      },
      "execution_count": null,
      "outputs": []
    },
    {
      "cell_type": "code",
      "source": [
        "client = bigquery.Client(project='nft-dashboard-381202')"
      ],
      "metadata": {
        "id": "USbv_4C-Rlx2"
      },
      "execution_count": null,
      "outputs": []
    },
    {
      "cell_type": "code",
      "source": [
        "Query = f\"\"\"\n",
        "    SELECT *\n",
        "    FROM `nft-dashboard-381202.crypto_pipeline.crypto_eth_prices`\n",
        "    ORDER BY Date ASC\n",
        "\"\"\"\n",
        "data = client.query(Query).to_dataframe()"
      ],
      "metadata": {
        "id": "wXF70RE0SVZH"
      },
      "execution_count": null,
      "outputs": []
    },
    {
      "cell_type": "code",
      "source": [
        "data.head()"
      ],
      "metadata": {
        "id": "gCdOqvAZSXc7"
      },
      "execution_count": null,
      "outputs": []
    },
    {
      "cell_type": "markdown",
      "source": [
        "### Data Preprocessing and EDA"
      ],
      "metadata": {
        "id": "gHZgoHjGTMUh"
      }
    },
    {
      "cell_type": "code",
      "source": [
        "data['Open'] = data['Open'].astype(float)\n",
        "data['High'] = data['High'].astype(float)\n",
        "data['Low'] = data['Low'].astype(float)\n",
        "data['Close'] = data['Close'].astype(float)\n",
        "data['Adj_Close'] = data['Adj_Close'].astype(float)\n",
        "data['Volumn'] = data['Volumn'].astype(int)\n",
        "data['Prev_Close'] = data['Prev_Close'].astype(float)\n",
        "data['Simple_Return'] = data['Simple_Return'].astype(float)\n",
        "data['Log_Return'] = data['Log_Return'].astype(float)"
      ],
      "metadata": {
        "id": "mcJj3yf0TFDZ"
      },
      "execution_count": null,
      "outputs": []
    },
    {
      "cell_type": "code",
      "source": [
        "data.describe()"
      ],
      "metadata": {
        "id": "KS0hflhCTIF9"
      },
      "execution_count": null,
      "outputs": []
    },
    {
      "cell_type": "code",
      "source": [
        "\n",
        "\n",
        "cols_plot = ['Open', 'High', 'Low', 'Close', 'Adj_Close']\n",
        "graphs = data[cols_plot].plot(marker='.', alpha=0.5, linestyle='None', figsize=(11, 9), subplots=True)\n",
        "for graph in graphs:\n",
        "    graph.set_ylabel('Daily trade')"
      ],
      "metadata": {
        "id": "GwgvAz23TPcg"
      },
      "execution_count": null,
      "outputs": []
    },
    {
      "cell_type": "code",
      "source": [
        "X = []\n",
        "Y = []\n",
        "window_size=10\n",
        "for i in range(1 , len(data) - window_size - 1 , 1):\n",
        "    first = data.iloc[i,0]\n",
        "    features = []\n",
        "    label = []\n",
        "    for j in range(window_size):\n",
        "        features.append((data.iloc[i + j, 4] - first) / first)\n",
        "    label.append((data.iloc[i + window_size, 4] - first) / first)\n",
        "    X.append(np.array(features).reshape(window_size, 1))\n",
        "    Y.append(np.array(label).reshape(1, 1))\n",
        "\n",
        "x_train, x_test, y_train, y_test = train_test_split(X, Y, test_size=0.2, shuffle=True)\n",
        "\n",
        "train_X = np.array(x_train)\n",
        "test_X = np.array(x_test)\n",
        "train_Y = np.array(y_train)\n",
        "test_Y = np.array(y_test)\n",
        "\n",
        "train_X = train_X.reshape(train_X.shape[0],1,window_size,1)\n",
        "test_X = test_X.reshape(test_X.shape[0],1,window_size,1)\n",
        "\n",
        "print(train_X.shape)\n",
        "print(test_X.shape)"
      ],
      "metadata": {
        "id": "Lqwe9lJ2TWym"
      },
      "execution_count": null,
      "outputs": []
    },
    {
      "cell_type": "code",
      "source": [
        "def construct_model():\n",
        "  model = tf.keras.Sequential()\n",
        "\n",
        "  # CNN layers\n",
        "  model.add(TimeDistributed(Conv1D(64, kernel_size=3, activation='relu', input_shape=(None, window_size, 1))))\n",
        "  model.add(TimeDistributed(MaxPooling1D(2)))\n",
        "  model.add(TimeDistributed(Conv1D(128, kernel_size=3, activation='tanh')))\n",
        "  model.add(TimeDistributed(MaxPooling1D(2)))\n",
        "  # model.add(TimeDistributed(Conv1D(32, kernel_size=3, activation='relu')))\n",
        "  # model.add(TimeDistributed(MaxPooling1D(2)))\n",
        "  model.add(TimeDistributed(Flatten()))\n",
        "  # model.add(Dense(5, kernel_regularizer=L2(0.01)))\n",
        "\n",
        "  # LSTM layers\n",
        "  model.add(Bidirectional(LSTM(50, return_sequences=True)))\n",
        "  model.add(Dropout(0.5))\n",
        "  # model.add(Bidirectional(LSTM(window_size, return_sequences=False)))\n",
        "  # model.add(Dropout(0.5))\n",
        "\n",
        "  #Final layers\n",
        "  model.add(Dense(1, activation='linear'))\n",
        "  model.compile(optimizer='adam', loss='mse', metrics=['mse', 'mae'])\n",
        "  return model\n",
        "\n",
        "# Train the model\n",
        "model = construct_model()\n",
        "results = model.fit(train_X, train_Y, validation_data=(test_X,test_Y), epochs=50, batch_size=50, verbose=1, shuffle =True)"
      ],
      "metadata": {
        "id": "8ABkgf_LTgcD"
      },
      "execution_count": null,
      "outputs": []
    },
    {
      "cell_type": "code",
      "source": [
        "plt.plot(results.history['loss'], label='train loss')\n",
        "plt.plot(results.history['val_loss'], label='val loss')\n",
        "plt.xlabel(\"epoch\")\n",
        "plt.ylabel(\"Loss\")\n",
        "plt.legend()"
      ],
      "metadata": {
        "id": "ykjNJysoT2BK"
      },
      "execution_count": null,
      "outputs": []
    },
    {
      "cell_type": "code",
      "source": [
        "# Print_the_model\n",
        "print(model.summary())\n",
        "plot_model(model, to_file='model.png', show_shapes=True, show_layer_names=True)"
      ],
      "metadata": {
        "id": "GdS2MIcCV_RP"
      },
      "execution_count": null,
      "outputs": []
    },
    {
      "cell_type": "code",
      "source": [
        "model.evaluate(test_X, test_Y)"
      ],
      "metadata": {
        "id": "0dpwN9STZtWv"
      },
      "execution_count": null,
      "outputs": []
    },
    {
      "cell_type": "code",
      "source": [
        "from sklearn.metrics import explained_variance_score, mean_poisson_deviance, mean_gamma_deviance\n",
        "from sklearn.metrics import r2_score\n",
        "from sklearn.metrics import max_error\n",
        "\n",
        "# predict probabilities for test set\n",
        "yhat_probs = model.predict(test_X, verbose=0)\n",
        "# reduce to 1d array\n",
        "yhat_probs = yhat_probs[:, 0]\n",
        "test_label = test_Y.reshape(-1,1)\n",
        "var = explained_variance_score(test_label, yhat_probs)\n",
        "print('Variance: %f' % var)\n",
        "\n",
        "r2 = r2_score(test_label, yhat_probs)\n",
        "print('R2 Score: %f' % var)\n",
        "\n",
        "var2 = max_error(test_label, yhat_probs)\n",
        "print('Max Error: %f' % var2)"
      ],
      "metadata": {
        "id": "W62OHotGXowP"
      },
      "execution_count": null,
      "outputs": []
    },
    {
      "cell_type": "code",
      "source": [
        "predicted  = model.predict(test_X)\n",
        "predicted = np.array(predicted[:,0]).reshape(-1,1)\n",
        "real_prices = deepcopy(test_label)\n",
        "len_t = len(train_X)\n",
        "for j in range(len_t , len_t + len(test_X)):\n",
        "    # Use Open Prices of Crypto to predict\n",
        "    temp = data.iloc[j,0]\n",
        "    real_prices[j - len_t] = real_prices[j - len_t] * temp + temp\n",
        "    predicted[j - len_t] = predicted[j - len_t] * temp + temp"
      ],
      "metadata": {
        "id": "qlB8mvokYEXi"
      },
      "execution_count": null,
      "outputs": []
    },
    {
      "cell_type": "code",
      "source": [
        "plt.plot(predicted, color = 'green', label = 'Predicted ETH Price', alpha = 0.8)\n",
        "plt.plot(real_prices, color = 'red', label = 'Real ETH Price', alpha = 0.5)\n",
        "plt.title(' ETH Price Prediction')\n",
        "plt.xlabel('Time')\n",
        "plt.ylabel(' ETH Price')\n",
        "plt.legend()\n",
        "plt.show()"
      ],
      "metadata": {
        "id": "j2VD1vyQYNlf"
      },
      "execution_count": null,
      "outputs": []
    },
    {
      "cell_type": "code",
      "source": [],
      "metadata": {
        "id": "wMtilcydFobW"
      },
      "execution_count": null,
      "outputs": []
    }
  ]
}